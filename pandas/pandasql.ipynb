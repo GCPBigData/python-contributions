{
 "nbformat": 4,
 "nbformat_minor": 2,
 "metadata": {
  "language_info": {
   "name": "python",
   "codemirror_mode": {
    "name": "ipython",
    "version": 3
   },
   "version": "3.7.6-final"
  },
  "orig_nbformat": 2,
  "file_extension": ".py",
  "mimetype": "text/x-python",
  "name": "python",
  "npconvert_exporter": "python",
  "pygments_lexer": "ipython3",
  "version": 3,
  "kernelspec": {
   "name": "python37664bitdebcab142a804a3d9ac5cc7551e069f4",
   "display_name": "Python 3.7.6 64-bit"
  }
 },
 "cells": [
  {
   "cell_type": "markdown",
   "execution_count": null,
   "metadata": {},
   "outputs": [],
   "source": [
    "# Install PandasQL"
   ]
  },
  {
   "cell_type": "code",
   "execution_count": 2,
   "metadata": {},
   "outputs": [
    {
     "name": "stdout",
     "output_type": "stream",
     "text": "Requirement already satisfied: pandasql in /usr/local/lib/python3.7/site-packages (0.7.3)\nRequirement already satisfied: numpy in /usr/local/lib/python3.7/site-packages (from pandasql) (1.18.1)\nRequirement already satisfied: sqlalchemy in /usr/local/lib/python3.7/site-packages (from pandasql) (1.3.12)\nRequirement already satisfied: pandas in /usr/local/lib/python3.7/site-packages (from pandasql) (0.25.1)\nRequirement already satisfied: python-dateutil>=2.6.1 in /usr/local/lib/python3.7/site-packages (from pandas->pandasql) (2.8.0)\nRequirement already satisfied: pytz>=2017.2 in /usr/local/lib/python3.7/site-packages (from pandas->pandasql) (2019.3)\nRequirement already satisfied: six>=1.5 in /usr/local/lib/python3.7/site-packages (from python-dateutil>=2.6.1->pandas->pandasql) (1.13.0)\n"
    }
   ],
   "source": [
    "!pip install pandasql"
   ]
  },
  {
   "cell_type": "markdown",
   "execution_count": null,
   "metadata": {},
   "outputs": [],
   "source": [
    "# Examples"
   ]
  },
  {
   "cell_type": "code",
   "execution_count": 4,
   "metadata": {},
   "outputs": [],
   "source": [
    "import pandas as pd\n",
    "from pandasql import sqldf"
   ]
  },
  {
   "cell_type": "code",
   "execution_count": 6,
   "metadata": {},
   "outputs": [],
   "source": [
    "golden_globe_awards = pd.read_csv('golden_globe_awards.csv')"
   ]
  },
  {
   "cell_type": "code",
   "execution_count": 7,
   "metadata": {},
   "outputs": [
    {
     "data": {
      "text/html": "<div>\n<style scoped>\n    .dataframe tbody tr th:only-of-type {\n        vertical-align: middle;\n    }\n\n    .dataframe tbody tr th {\n        vertical-align: top;\n    }\n\n    .dataframe thead th {\n        text-align: right;\n    }\n</style>\n<table border=\"1\" class=\"dataframe\">\n  <thead>\n    <tr style=\"text-align: right;\">\n      <th></th>\n      <th>year_film</th>\n      <th>year_award</th>\n      <th>ceremony</th>\n      <th>category</th>\n      <th>nominee</th>\n      <th>film</th>\n      <th>win</th>\n    </tr>\n  </thead>\n  <tbody>\n    <tr>\n      <td>0</td>\n      <td>1943</td>\n      <td>1944</td>\n      <td>1</td>\n      <td>Best Performance by an Actress in a Supporting...</td>\n      <td>Katina Paxinou</td>\n      <td>For Whom The Bell Tolls</td>\n      <td>1</td>\n    </tr>\n    <tr>\n      <td>1</td>\n      <td>1943</td>\n      <td>1944</td>\n      <td>1</td>\n      <td>Best Performance by an Actor in a Supporting R...</td>\n      <td>Akim Tamiroff</td>\n      <td>For Whom The Bell Tolls</td>\n      <td>1</td>\n    </tr>\n    <tr>\n      <td>2</td>\n      <td>1943</td>\n      <td>1944</td>\n      <td>1</td>\n      <td>Best Director - Motion Picture</td>\n      <td>Henry King</td>\n      <td>The Song Of Bernadette</td>\n      <td>1</td>\n    </tr>\n    <tr>\n      <td>3</td>\n      <td>1943</td>\n      <td>1944</td>\n      <td>1</td>\n      <td>Picture</td>\n      <td>The Song Of Bernadette</td>\n      <td>None</td>\n      <td>1</td>\n    </tr>\n    <tr>\n      <td>4</td>\n      <td>1943</td>\n      <td>1944</td>\n      <td>1</td>\n      <td>Actress In A Leading Role</td>\n      <td>Jennifer Jones</td>\n      <td>The Song Of Bernadette</td>\n      <td>1</td>\n    </tr>\n    <tr>\n      <td>5</td>\n      <td>1943</td>\n      <td>1944</td>\n      <td>1</td>\n      <td>Actor In A Leading Role</td>\n      <td>Paul Lukas</td>\n      <td>Watch On The Rhine</td>\n      <td>1</td>\n    </tr>\n    <tr>\n      <td>6</td>\n      <td>1944</td>\n      <td>1945</td>\n      <td>2</td>\n      <td>Best Performance by an Actress in a Supporting...</td>\n      <td>Agnes Moorehead</td>\n      <td>Mrs. Parkington</td>\n      <td>1</td>\n    </tr>\n    <tr>\n      <td>7</td>\n      <td>1944</td>\n      <td>1945</td>\n      <td>2</td>\n      <td>Best Performance by an Actor in a Supporting R...</td>\n      <td>Barry Fitzgerald</td>\n      <td>Going My Way</td>\n      <td>1</td>\n    </tr>\n    <tr>\n      <td>8</td>\n      <td>1944</td>\n      <td>1945</td>\n      <td>2</td>\n      <td>Best Director - Motion Picture</td>\n      <td>Leo McCarey</td>\n      <td>Going My Way</td>\n      <td>1</td>\n    </tr>\n    <tr>\n      <td>9</td>\n      <td>1944</td>\n      <td>1945</td>\n      <td>2</td>\n      <td>Picture</td>\n      <td>Going My Way</td>\n      <td>None</td>\n      <td>1</td>\n    </tr>\n  </tbody>\n</table>\n</div>",
      "text/plain": "   year_film  year_award  ...                     film win\n0       1943        1944  ...  For Whom The Bell Tolls   1\n1       1943        1944  ...  For Whom The Bell Tolls   1\n2       1943        1944  ...   The Song Of Bernadette   1\n3       1943        1944  ...                     None   1\n4       1943        1944  ...   The Song Of Bernadette   1\n5       1943        1944  ...       Watch On The Rhine   1\n6       1944        1945  ...          Mrs. Parkington   1\n7       1944        1945  ...             Going My Way   1\n8       1944        1945  ...             Going My Way   1\n9       1944        1945  ...                     None   1\n\n[10 rows x 7 columns]"
     },
     "execution_count": 7,
     "metadata": {},
     "output_type": "execute_result"
    }
   ],
   "source": [
    "sqldf('SELECT * FROM golden_globe_awards LIMIT 10')"
   ]
  },
  {
   "cell_type": "code",
   "execution_count": 9,
   "metadata": {},
   "outputs": [
    {
     "data": {
      "text/html": "<div>\n<style scoped>\n    .dataframe tbody tr th:only-of-type {\n        vertical-align: middle;\n    }\n\n    .dataframe tbody tr th {\n        vertical-align: top;\n    }\n\n    .dataframe thead th {\n        text-align: right;\n    }\n</style>\n<table border=\"1\" class=\"dataframe\">\n  <thead>\n    <tr style=\"text-align: right;\">\n      <th></th>\n      <th>total_years_of_ceremony</th>\n    </tr>\n  </thead>\n  <tbody>\n    <tr>\n      <td>0</td>\n      <td>77</td>\n    </tr>\n  </tbody>\n</table>\n</div>",
      "text/plain": "   total_years_of_ceremony\n0                       77"
     },
     "execution_count": 9,
     "metadata": {},
     "output_type": "execute_result"
    }
   ],
   "source": [
    "sqldf('SELECT count(DISTINCT year_award) as total_years_of_ceremony FROM golden_globe_awards')"
   ]
  },
  {
   "cell_type": "code",
   "execution_count": 17,
   "metadata": {},
   "outputs": [
    {
     "data": {
      "text/html": "<div>\n<style scoped>\n    .dataframe tbody tr th:only-of-type {\n        vertical-align: middle;\n    }\n\n    .dataframe tbody tr th {\n        vertical-align: top;\n    }\n\n    .dataframe thead th {\n        text-align: right;\n    }\n</style>\n<table border=\"1\" class=\"dataframe\">\n  <thead>\n    <tr style=\"text-align: right;\">\n      <th></th>\n      <th>film</th>\n      <th>no_of_prizes</th>\n    </tr>\n  </thead>\n  <tbody>\n    <tr>\n      <td>0</td>\n      <td>M*A*S*H (TV Show)</td>\n      <td>7</td>\n    </tr>\n    <tr>\n      <td>1</td>\n      <td>Carol Burnett Show, The</td>\n      <td>7</td>\n    </tr>\n    <tr>\n      <td>2</td>\n      <td>Alice</td>\n      <td>7</td>\n    </tr>\n    <tr>\n      <td>3</td>\n      <td>La La Land</td>\n      <td>6</td>\n    </tr>\n    <tr>\n      <td>4</td>\n      <td>Sex and The City</td>\n      <td>5</td>\n    </tr>\n    <tr>\n      <td>5</td>\n      <td>One Flew Over The Cuckoo's Nest</td>\n      <td>5</td>\n    </tr>\n    <tr>\n      <td>6</td>\n      <td>Midnight Express</td>\n      <td>5</td>\n    </tr>\n    <tr>\n      <td>7</td>\n      <td>Lawrence Of Arabia</td>\n      <td>5</td>\n    </tr>\n    <tr>\n      <td>8</td>\n      <td>Cheers</td>\n      <td>5</td>\n    </tr>\n    <tr>\n      <td>9</td>\n      <td>30 Rock</td>\n      <td>5</td>\n    </tr>\n  </tbody>\n</table>\n</div>",
      "text/plain": "                              film  no_of_prizes\n0                M*A*S*H (TV Show)             7\n1          Carol Burnett Show, The             7\n2                            Alice             7\n3                       La La Land             6\n4                 Sex and The City             5\n5  One Flew Over The Cuckoo's Nest             5\n6                 Midnight Express             5\n7               Lawrence Of Arabia             5\n8                           Cheers             5\n9                          30 Rock             5"
     },
     "execution_count": 17,
     "metadata": {},
     "output_type": "execute_result"
    }
   ],
   "source": [
    "sqldf('''\n",
    "SELECT film, count(*) as no_of_prizes \n",
    "FROM golden_globe_awards\n",
    "WHERE film IS NOT NULL AND win IS TRUE\n",
    "GROUP BY film\n",
    "ORDER BY 2 DESC\n",
    "LIMIT 10\n",
    "''')"
   ]
  },
  {
   "cell_type": "code",
   "execution_count": 19,
   "metadata": {},
   "outputs": [
    {
     "data": {
      "text/html": "<div>\n<style scoped>\n    .dataframe tbody tr th:only-of-type {\n        vertical-align: middle;\n    }\n\n    .dataframe tbody tr th {\n        vertical-align: top;\n    }\n\n    .dataframe thead th {\n        text-align: right;\n    }\n</style>\n<table border=\"1\" class=\"dataframe\">\n  <thead>\n    <tr style=\"text-align: right;\">\n      <th></th>\n      <th>nominee</th>\n      <th>no_of_prizes</th>\n    </tr>\n  </thead>\n  <tbody>\n    <tr>\n      <td>0</td>\n      <td>The Song Of Bernadette</td>\n      <td>425</td>\n    </tr>\n    <tr>\n      <td>1</td>\n      <td>McLean Stevenson</td>\n      <td>7</td>\n    </tr>\n    <tr>\n      <td>2</td>\n      <td>Carol Burnett</td>\n      <td>7</td>\n    </tr>\n    <tr>\n      <td>3</td>\n      <td>Linda Lavin</td>\n      <td>7</td>\n    </tr>\n    <tr>\n      <td>4</td>\n      <td>Emma Stone</td>\n      <td>6</td>\n    </tr>\n    <tr>\n      <td>5</td>\n      <td>Sarah Jessica Parker</td>\n      <td>5</td>\n    </tr>\n    <tr>\n      <td>6</td>\n      <td>Louise Fletcher</td>\n      <td>5</td>\n    </tr>\n    <tr>\n      <td>7</td>\n      <td>John Hurt</td>\n      <td>5</td>\n    </tr>\n    <tr>\n      <td>8</td>\n      <td>Omar Sharif</td>\n      <td>5</td>\n    </tr>\n    <tr>\n      <td>9</td>\n      <td>Shelley Long</td>\n      <td>5</td>\n    </tr>\n  </tbody>\n</table>\n</div>",
      "text/plain": "                  nominee  no_of_prizes\n0  The Song Of Bernadette           425\n1        McLean Stevenson             7\n2           Carol Burnett             7\n3             Linda Lavin             7\n4              Emma Stone             6\n5    Sarah Jessica Parker             5\n6         Louise Fletcher             5\n7               John Hurt             5\n8             Omar Sharif             5\n9            Shelley Long             5"
     },
     "execution_count": 19,
     "metadata": {},
     "output_type": "execute_result"
    }
   ],
   "source": [
    "sqldf('''\n",
    "SELECT nominee, count(*) as no_of_prizes \n",
    "FROM golden_globe_awards\n",
    "WHERE nominee IS NOT NULL AND win IS TRUE\n",
    "GROUP BY film\n",
    "ORDER BY 2 DESC\n",
    "LIMIT 10\n",
    "''')"
   ]
  },
  {
   "cell_type": "code",
   "execution_count": 24,
   "metadata": {},
   "outputs": [
    {
     "data": {
      "text/html": "<div>\n<style scoped>\n    .dataframe tbody tr th:only-of-type {\n        vertical-align: middle;\n    }\n\n    .dataframe tbody tr th {\n        vertical-align: top;\n    }\n\n    .dataframe thead th {\n        text-align: right;\n    }\n</style>\n<table border=\"1\" class=\"dataframe\">\n  <thead>\n    <tr style=\"text-align: right;\">\n      <th></th>\n      <th>film</th>\n      <th>year_film</th>\n      <th>no_of_prizes</th>\n    </tr>\n  </thead>\n  <tbody>\n    <tr>\n      <td>0</td>\n      <td>Assassination of Gianni Versace: American Crim...</td>\n      <td>2018</td>\n      <td>1</td>\n    </tr>\n    <tr>\n      <td>1</td>\n      <td>Bodyguard</td>\n      <td>2018</td>\n      <td>1</td>\n    </tr>\n    <tr>\n      <td>2</td>\n      <td>Bohemian Rhapsody</td>\n      <td>2018</td>\n      <td>1</td>\n    </tr>\n    <tr>\n      <td>3</td>\n      <td>Escape at Dannemora</td>\n      <td>2018</td>\n      <td>1</td>\n    </tr>\n    <tr>\n      <td>4</td>\n      <td>Favourite, The</td>\n      <td>2018</td>\n      <td>1</td>\n    </tr>\n    <tr>\n      <td>5</td>\n      <td>First Man</td>\n      <td>2018</td>\n      <td>1</td>\n    </tr>\n    <tr>\n      <td>6</td>\n      <td>Green Book</td>\n      <td>2018</td>\n      <td>2</td>\n    </tr>\n    <tr>\n      <td>7</td>\n      <td>If Beale Street Could Talk</td>\n      <td>2018</td>\n      <td>1</td>\n    </tr>\n    <tr>\n      <td>8</td>\n      <td>Killing Eve</td>\n      <td>2018</td>\n      <td>1</td>\n    </tr>\n    <tr>\n      <td>9</td>\n      <td>Kominsky Method, The</td>\n      <td>2018</td>\n      <td>1</td>\n    </tr>\n  </tbody>\n</table>\n</div>",
      "text/plain": "                                                film  year_film  no_of_prizes\n0  Assassination of Gianni Versace: American Crim...       2018             1\n1                                          Bodyguard       2018             1\n2                                  Bohemian Rhapsody       2018             1\n3                                Escape at Dannemora       2018             1\n4                                     Favourite, The       2018             1\n5                                          First Man       2018             1\n6                                         Green Book       2018             2\n7                         If Beale Street Could Talk       2018             1\n8                                        Killing Eve       2018             1\n9                               Kominsky Method, The       2018             1"
     },
     "execution_count": 24,
     "metadata": {},
     "output_type": "execute_result"
    }
   ],
   "source": [
    "sqldf('''\n",
    "WITH last_year_prizes as (SELECT * FROM golden_globe_awards WHERE year_award = 2019)\n",
    "SELECT film, year_film, count(*) as no_of_prizes \n",
    "FROM last_year_prizes\n",
    "WHERE film IS NOT NULL AND win IS TRUE\n",
    "GROUP BY film, year_film\n",
    "ORDER BY 2 DESC\n",
    "LIMIT 10\n",
    "''')"
   ]
  }
 ]
}